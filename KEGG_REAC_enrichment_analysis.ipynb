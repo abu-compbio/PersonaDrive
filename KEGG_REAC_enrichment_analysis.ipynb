{
 "cells": [
  {
   "cell_type": "code",
   "execution_count": 135,
   "metadata": {},
   "outputs": [],
   "source": [
    "from Data import *\n",
    "import pandas as pd\n",
    "import os\n",
    "from tqdm import tqdm_notebook as tqdm\n",
    "from gprofiler import GProfiler\n",
    "import requests\n",
    "from matplotlib import ticker\n",
    "import matplotlib.pyplot as plt"
   ]
  },
  {
   "cell_type": "markdown",
   "metadata": {},
   "source": [
    "# 1- Load Data"
   ]
  },
  {
   "cell_type": "code",
   "execution_count": 143,
   "metadata": {},
   "outputs": [
    {
     "name": "stdout",
     "output_type": "stream",
     "text": [
      "---- Data ----\n",
      "A) LOAD Data\n",
      "   1) Mutation data loaded for  36  samples.  (19539, 36)\n",
      "   3) Reference sets from  [GDSC U DepMap] data loaded\n"
     ]
    }
   ],
   "source": [
    "#Load Data\n",
    "dataset = \"CCLE\"\n",
    "cancer = \"COAD\"\n",
    "network = \"DW\"\n",
    "\n",
    "DataC=Data(cancer,dataset,network,mut_ppi_filter=False)\n",
    "#Load mutations\n",
    "mut_dic=DataC.get_mutation_data()\n",
    "#Load drug targets (personalized reference sets)\n",
    "drug_targets=DataC.load_gdsc_depmap_reference_sets(cancer)"
   ]
  },
  {
   "cell_type": "code",
   "execution_count": 19,
   "metadata": {},
   "outputs": [],
   "source": [
    "def load_method_results(model):\n",
    "    drivers={}\n",
    "    with open(str(model)+'') as ifile:\n",
    "        for line in ifile.readlines():\n",
    "            drivers[line.strip().split(\"\\t\")[0].replace(\".\",\"-\")]=line.strip().split(\"\\t\")[1:]\n",
    "    return drivers"
   ]
  },
  {
   "cell_type": "markdown",
   "metadata": {},
   "source": [
    "# 2 -  Select Samples with at least K ranked Genes"
   ]
  },
  {
   "cell_type": "code",
   "execution_count": 20,
   "metadata": {},
   "outputs": [],
   "source": [
    "#select samples with at least k ranked genes among all models under concideration\n",
    "def select_samples(cancer,dataset,network,drug_targets):\n",
    "    select_cells=[]\n",
    "    for c in drug_targets:\n",
    "        selected=True\n",
    "        for method in os.listdir(\"results/{}/{}_{}/\".format(dataset,cancer,network)):\n",
    "            if '.txt' in method:\n",
    "                method_drivers=load_method_results(\"results/{}/{}_{}/{}\".format(dataset,cancer,network,method))\n",
    "                if len(method_drivers[c])<20:\n",
    "                    selected=False\n",
    "        if selected:\n",
    "            select_cells.append(c)\n",
    "    return select_cells\n"
   ]
  },
  {
   "cell_type": "code",
   "execution_count": 144,
   "metadata": {},
   "outputs": [
    {
     "name": "stdout",
     "output_type": "stream",
     "text": [
      "25\n"
     ]
    }
   ],
   "source": [
    "selected_cells=select_samples(cancer,dataset,network,drug_targets)\n",
    "print(len(selected_cells))"
   ]
  },
  {
   "cell_type": "markdown",
   "metadata": {},
   "source": [
    "# 3 - gProfiler"
   ]
  },
  {
   "cell_type": "code",
   "execution_count": 145,
   "metadata": {},
   "outputs": [],
   "source": [
    "#------Uploading a custom KEGG pathways from (Kanehisa et al., 2020) \n",
    "content = open('data/enrichment_analysis/kegg_pathways_v1.gmt').read()\n",
    "#POST request with the file content in JSON\n",
    "gProfiler_Custom_Data = requests.post('https://biit.cs.ut.ee/gprofiler/api/gost/custom',\n",
    "             json = {\n",
    "                     'gmt':content,\n",
    "                     'name':'kegg_pathways_v1.gmt'\n",
    "                    })\n",
    "KEGG_custom = gProfiler_Custom_Data.json()['organism']\n",
    "#KEGG analysis using gProfiler"
   ]
  },
  {
   "cell_type": "markdown",
   "metadata": {},
   "source": [
    "### 3.1 KEGG gProfiler"
   ]
  },
  {
   "cell_type": "code",
   "execution_count": 146,
   "metadata": {},
   "outputs": [],
   "source": [
    "def KEGG_enrichment(data,background):\n",
    "    gp = GProfiler(return_dataframe=True)\n",
    "    gProfiler_output=gp.profile(organism=KEGG_custom,\n",
    "                                        query=data,domain_scope='custom',background=background,all_results=False)\n",
    "    return gProfiler_output"
   ]
  },
  {
   "cell_type": "markdown",
   "metadata": {},
   "source": [
    "### 3.2 Reactome gProfiler"
   ]
  },
  {
   "cell_type": "code",
   "execution_count": 147,
   "metadata": {},
   "outputs": [],
   "source": [
    "#Reactome analysis using gProfiler\n",
    "def Reactome_enrichment(data,background):\n",
    "    gp = GProfiler(return_dataframe=True)\n",
    "    gProfiler_output=gp.profile(organism=\"hsapiens\",sources=[\"REAC\"],\n",
    "                                        query=data,domain_scope='custom',background=background,all_results=False)\n",
    "    return gProfiler_output"
   ]
  },
  {
   "cell_type": "markdown",
   "metadata": {},
   "source": [
    "### 3.3 Run gProfiler"
   ]
  },
  {
   "cell_type": "code",
   "execution_count": 55,
   "metadata": {},
   "outputs": [],
   "source": [
    "#select samples with at least k ranked genes among all models under concideration\n",
    "def methods_analysis(cancer,dataset,network,selected_cells,mut_dic):\n",
    "    for method in tqdm(os.listdir(\"results/{}/{}_{}/\".format(dataset,cancer,network))):\n",
    "        if '.txt' in method:\n",
    "            try:\n",
    "                if not os.path.exists(\"results/{}/{}_{}/Enrichments/\".format(dataset,cancer,network)):\n",
    "                    os.mkdir(\"results/{}/{}_{}/Enrichments/\".format(dataset,cancer,network))\n",
    "                    os.mkdir(\"results/{}/{}_{}/Enrichments/KEGG/\".format(dataset,cancer,network))\n",
    "                    os.mkdir(\"results/{}/{}_{}/Enrichments/REAC/\".format(dataset,cancer,network))\n",
    "                if not os.path.exists(\"results/{}/{}_{}/Enrichments/KEGG/{}/\".format(dataset,cancer,network,method.split(\".txt\"[0]))):\n",
    "                    os.mkdir(\"results/{}/{}_{}/Enrichments/KEGG/{}/\".format(dataset,cancer,network,method.split(\".txt\")[0]))\n",
    "                    os.mkdir(\"results/{}/{}_{}/Enrichments/REAC/{}/\".format(dataset,cancer,network,method.split(\".txt\")[0]))\n",
    "            except:\n",
    "                print(\"error: directory\")\n",
    "            method_drivers=load_method_results(\"results/{}/{}_{}/{}\".format(dataset,cancer,network,method))\n",
    "            for c in selected_cells:\n",
    "                kegg_results=KEGG_enrichment(method_drivers[c][:20],mut_dic[c])\n",
    "                reactome_results=Reactome_enrichment(method_drivers[c][:20],mut_dic[c])\n",
    "                kegg_results.to_csv(\"results/{}/{}_{}/Enrichments/KEGG/{}/{}.csv\".format(dataset,cancer,network,method.split(\".txt\")[0],c))\n",
    "                reactome_results.to_csv(\"results/{}/{}_{}/Enrichments/REAC/{}/{}.csv\".format(dataset,cancer,network,method.split(\".txt\")[0],c))\n",
    "       \n",
    "        \n",
    "def reference_analysis(cancer,dataset,network,selected_cells,mut_dic,drug_targets):\n",
    "    \n",
    "    try:\n",
    "        if not os.path.exists(\"results/{}/{}_{}/Enrichments/Ref_KEGG/\".format(dataset,cancer,network)):\n",
    "            os.mkdir(\"results/{}/{}_{}/Enrichments/Ref_KEGG/\".format(dataset,cancer,network))\n",
    "        if not os.path.exists(\"results/{}/{}_{}/Enrichments/Ref_REAC/\".format(dataset,cancer,network)):\n",
    "            os.mkdir(\"results/{}/{}_{}/Enrichments/Ref_REAC/\".format(dataset,cancer,network))\n",
    "    except:\n",
    "        print(\"error: directory\")\n",
    "    for c in tqdm(selected_cells):\n",
    "        kegg_results=KEGG_enrichment(drug_targets[c],mut_dic[c])\n",
    "        reactome_results=Reactome_enrichment(drug_targets[c],mut_dic[c])\n",
    "        kegg_results.to_csv(\"results/{}/{}_{}/Enrichments/Ref_KEGG/{}.csv\".format(dataset,cancer,network,c))\n",
    "        reactome_results.to_csv(\"results/{}/{}_{}/Enrichments/Ref_REAC/{}.csv\".format(dataset,cancer,network,c))\n",
    "        \n",
    "    "
   ]
  },
  {
   "cell_type": "code",
   "execution_count": null,
   "metadata": {},
   "outputs": [],
   "source": [
    "#run gProfiler\n",
    "methods_analysis(cancer,dataset,network,selected_cells,mut_dic)\n",
    "reference_analysis(cancer,dataset,network,selected_cells,mut_dic,drug_targets)"
   ]
  },
  {
   "cell_type": "markdown",
   "metadata": {},
   "source": [
    "# EPO Scores"
   ]
  },
  {
   "cell_type": "code",
   "execution_count": 127,
   "metadata": {},
   "outputs": [],
   "source": [
    "#KEGG Enrichment Analyais\n",
    "def EPO(cancer,dataset,network,pathway_db):\n",
    "    #kegg scores\n",
    "    EPO_scores={}\n",
    "    #load reference set KEGG pathways\n",
    "    pathways_ref={}\n",
    "    #for each cell line in the reference folder \n",
    "    for c in os.listdir(\"results/{}/{}_{}/Enrichments/Ref_{}/\".format(dataset,cancer,network,pathway_db)):\n",
    "        #load the enriched pathways for each reference set\n",
    "        c_ref=pd.read_table(\"results/{}/{}_{}/Enrichments/Ref_{}/{}\".format(dataset,cancer,network,pathway_db,c),sep=\",\")\n",
    "        c_ref_pathways=set(c_ref[\"native\"])\n",
    "        if 'REAC:0000000' in c_ref_pathways:\n",
    "            c_ref_pathways.remove('REAC:0000000')\n",
    "        #if the set of the enriched pathways for the refence set c is not empty than store them\n",
    "        if len(c_ref_pathways)>0:\n",
    "            pathways_ref[c.split(\".csv\")[0]]=c_ref_pathways\n",
    "    \n",
    "    #for each method\n",
    "    \n",
    "    for method in os.listdir(\"results/{}/{}_{}/Enrichments/{}/\".format(dataset,cancer,network,pathway_db)):\n",
    "        #calclute EPO score\n",
    "        score=0.0\n",
    "        for c in pathways_ref:\n",
    "            m_c_pathways=pd.read_table(\"results/{}/{}_{}/Enrichments/{}/{}/{}.csv\".format(dataset,cancer,network,pathway_db,method,c),sep=\",\")\n",
    "            m_c_pathways=set(m_c_pathways[\"native\"])\n",
    "            score+=(len(m_c_pathways.intersection(pathways_ref[c]))/len(pathways_ref[c]))\n",
    "        EPO_scores[method]=score/len(pathways_ref)\n",
    "    return EPO_scores\n",
    "\n",
    "\n"
   ]
  },
  {
   "cell_type": "markdown",
   "metadata": {},
   "source": [
    "# EPO [KEGG]"
   ]
  },
  {
   "cell_type": "code",
   "execution_count": 128,
   "metadata": {
    "scrolled": true
   },
   "outputs": [
    {
     "data": {
      "text/plain": [
       "{'PersonaDrive': 0.7994015745157298,\n",
       " 'DawnRank': 0.370111341344218,\n",
       " 'SCS': 0.036781021370062464,\n",
       " 'Prodigy': 0.061719451274245794}"
      ]
     },
     "execution_count": 128,
     "metadata": {},
     "output_type": "execute_result"
    }
   ],
   "source": [
    "KEGG_results=EPO(cancer,dataset,network,\"KEGG\")\n",
    "KEGG_results"
   ]
  },
  {
   "cell_type": "markdown",
   "metadata": {},
   "source": [
    "# EPO [Reactome]"
   ]
  },
  {
   "cell_type": "code",
   "execution_count": 148,
   "metadata": {},
   "outputs": [
    {
     "data": {
      "text/plain": [
       "{'PersonaDrive': 0.36670539132542485,\n",
       " 'DawnRank': 0.33443149315952697,\n",
       " 'SCS': 0.0545388045082848,\n",
       " 'Prodigy': 0.041363946077365016}"
      ]
     },
     "execution_count": 148,
     "metadata": {},
     "output_type": "execute_result"
    }
   ],
   "source": [
    "REAC_results=EPO(cancer,dataset,network,\"REAC\")\n",
    "REAC_results"
   ]
  },
  {
   "cell_type": "markdown",
   "metadata": {},
   "source": [
    "# Plot"
   ]
  },
  {
   "cell_type": "code",
   "execution_count": 141,
   "metadata": {},
   "outputs": [],
   "source": [
    "def plot(KEGG_results,REAC_results):\n",
    "    combined_scores={}\n",
    "    for m in KEGG_results:\n",
    "        combined_scores[m]={\"KEGG\":KEGG_results[m],\"Reactome\":REAC_results[m],}\n",
    "    combined_scores=pd.DataFrame.from_dict(combined_scores)\n",
    "    my_colors=[\"#ED553B\",\"orange\",\"#6d276a\",\"#7F7F7F\"]\n",
    "    combined_scores.plot(kind='bar',color=my_colors,figsize=(6,8),fontsize=10)\n",
    "    plt.legend(fontsize = 10)\n",
    "        "
   ]
  },
  {
   "cell_type": "code",
   "execution_count": 142,
   "metadata": {},
   "outputs": [
    {
     "data": {
      "image/png": "[encoded data removed]",
      "text/plain": [
       "<Figure size 432x576 with 1 Axes>"
      ]
     },
     "metadata": {
      "needs_background": "light"
     },
     "output_type": "display_data"
    }
   ],
   "source": [
    "plot(KEGG_results,REAC_results)"
   ]
  },
  {
   "cell_type": "code",
   "execution_count": null,
   "metadata": {},
   "outputs": [],
   "source": []
  }
 ],
 "metadata": {
  "kernelspec": {
   "display_name": "Python 3",
   "language": "python",
   "name": "python3"
  },
  "language_info": {
   "codemirror_mode": {
    "name": "ipython",
    "version": 3
   },
   "file_extension": ".py",
   "mimetype": "text/x-python",
   "name": "python",
   "nbconvert_exporter": "python",
   "pygments_lexer": "ipython3",
   "version": "3.6.8"
  }
 },
 "nbformat": 4,
 "nbformat_minor": 2
}
