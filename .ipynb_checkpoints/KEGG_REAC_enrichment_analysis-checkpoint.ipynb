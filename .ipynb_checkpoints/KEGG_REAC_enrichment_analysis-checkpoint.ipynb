{
 "cells": [
  {
   "cell_type": "code",
   "execution_count": 1,
   "metadata": {},
   "outputs": [],
   "source": [
    "from Data import *\n",
    "import pandas as pd\n",
    "import os\n",
    "from tqdm import tqdm_notebook as tqdm\n",
    "from gprofiler import GProfiler\n",
    "import requests"
   ]
  },
  {
   "cell_type": "code",
   "execution_count": null,
   "metadata": {},
   "outputs": [],
   "source": []
  },
  {
   "cell_type": "code",
   "execution_count": 19,
   "metadata": {},
   "outputs": [],
   "source": [
    "def load_method_results(model):\n",
    "    drivers={}\n",
    "    with open(str(model)+'') as ifile:\n",
    "\n",
    "        for line in ifile.readlines():\n",
    "            drivers[line.strip().split(\"\\t\")[0].replace(\".\",\"-\")]=line.strip().split(\"\\t\")[1:]\n",
    "\n",
    "    return drivers"
   ]
  },
  {
   "cell_type": "code",
   "execution_count": 20,
   "metadata": {},
   "outputs": [],
   "source": [
    "#select samples with at least k ranked genes among all models under concideration\n",
    "def select_samples(cancer,dataset,network,drug_targets):\n",
    "    select_cells=[]\n",
    "    for c in drug_targets:\n",
    "        selected=True\n",
    "        for method in os.listdir(\"results/{}/{}_{}/\".format(dataset,cancer,network)):\n",
    "            if '.txt' in method:\n",
    "                method_drivers=load_method_results(\"results/{}/{}_{}/{}\".format(dataset,cancer,network,method))\n",
    "                if len(method_drivers[c])<20:\n",
    "                    selected=False\n",
    "        if selected:\n",
    "            select_cells.append(c)\n",
    "    return select_cells\n",
    "    "
   ]
  },
  {
   "cell_type": "code",
   "execution_count": null,
   "metadata": {},
   "outputs": [],
   "source": []
  },
  {
   "cell_type": "code",
   "execution_count": 21,
   "metadata": {},
   "outputs": [
    {
     "name": "stdout",
     "output_type": "stream",
     "text": [
      "---- Data ----\n",
      "A) LOAD Data\n",
      "   1) Mutation data loaded for  36  samples.  (19539, 36)\n",
      "   3) Reference sets from  [GDSC U DepMap] data loaded\n"
     ]
    }
   ],
   "source": [
    "#Load Data\n",
    "dataset = \"CCLE\"\n",
    "cancer = \"COAD\"\n",
    "network = \"DW\"\n",
    "DataC=Data(cancer,dataset,network,mut_ppi_filter=False)\n",
    "mut_dic=DataC.get_mutation_data()\n",
    "drug_targets=DataC.load_gdsc_depmap_reference_sets(cancer)\n"
   ]
  },
  {
   "cell_type": "code",
   "execution_count": 24,
   "metadata": {},
   "outputs": [],
   "source": [
    "selected_cells=select_samples(cancer,dataset,network,drug_targets)"
   ]
  },
  {
   "cell_type": "code",
   "execution_count": 25,
   "metadata": {},
   "outputs": [
    {
     "data": {
      "text/plain": [
       "25"
      ]
     },
     "execution_count": 25,
     "metadata": {},
     "output_type": "execute_result"
    }
   ],
   "source": [
    "len(selected_cells)"
   ]
  },
  {
   "cell_type": "code",
   "execution_count": null,
   "metadata": {},
   "outputs": [],
   "source": [
    "#KEGG analysis\n",
    "content = open('data/enrichment_analysis/kegg_pathways_v1.gmt').read()\n",
    "#POST request with the file content in JSON\n",
    "gProfiler_Custom_Data = requests.post('https://biit.cs.ut.ee/gprofiler/api/gost/custom',\n",
    "             json = {\n",
    "                     'gmt':content,\n",
    "                     'name':'kegg_pathways_v1.gmt'\n",
    "                    })\n",
    "KEGG_custom = gProfiler_Custom_Data.json()['organism']\n",
    "#KEGG analysis using gProfiler\n",
    "def KEGG_enrichment(data,background):\n",
    "   \n",
    "        gProfiler_output=gp.profile(organism=KEGG_custom,\n",
    "                                        query=data,domain_scope='custom',background=mut_dic[c],all_results=False)\n",
    "    else:\n",
    "        gProfiler_output=gp.profile(organism=KEGG_custom,\n",
    "                                            query=data,domain_scope='custom',background=background,all_results=False)\n",
    "    return gProfiler_output\n",
    "def KEGG_enrichment(data,background):\n",
    "    gProfiler_output=gp.profile(organism=KEGG_custom,\n",
    "                                        query=data,domain_scope='custom',background=background,all_results=False)\n",
    "    return gProfiler_output"
   ]
  }
 ],
 "metadata": {
  "kernelspec": {
   "display_name": "Python 3",
   "language": "python",
   "name": "python3"
  },
  "language_info": {
   "codemirror_mode": {
    "name": "ipython",
    "version": 3
   },
   "file_extension": ".py",
   "mimetype": "text/x-python",
   "name": "python",
   "nbconvert_exporter": "python",
   "pygments_lexer": "ipython3",
   "version": "3.6.8"
  }
 },
 "nbformat": 4,
 "nbformat_minor": 2
}
